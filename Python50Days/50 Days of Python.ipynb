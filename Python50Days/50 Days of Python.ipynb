{
 "cells": [
  {
   "cell_type": "code",
   "execution_count": null,
   "id": "8d4dfc14",
   "metadata": {},
   "outputs": [],
   "source": [
    "\"\"\" 50 days of python\n",
    "Day 1:-\n",
    "Challenge 1 Division and Square root.\"\"\"\n",
    "import math\n",
    "def divide_or_square(num):\n",
    "    if num % 5 == 0:\n",
    "        return math.sqrt(num)\n",
    "    else:\n",
    "        return num % 5\n",
    "number = int(input(\"Enter a number \"))\n",
    "print(round(divide_or_square(number),2))"
   ]
  },
  {
   "cell_type": "code",
   "execution_count": 14,
   "id": "2884058a",
   "metadata": {},
   "outputs": [
    {
     "name": "stdout",
     "output_type": "stream",
     "text": [
      "apple\n"
     ]
    }
   ],
   "source": [
    "\"Day 1 Extra Challenge:- Longest Value\"\n",
    "def longest_value(dic):\n",
    "    x = list(dic.values())\n",
    "    value = x[0]\n",
    "    for i in x[1:]:\n",
    "        if len(i) > len(value):\n",
    "            value = i\n",
    "    return value\n",
    "fruits = {'fruit':'apple','colour':'green'}\n",
    "print(longest_value(fruits))\n"
   ]
  },
  {
   "cell_type": "code",
   "execution_count": 4,
   "id": "03ecbb42",
   "metadata": {},
   "outputs": [
    {
     "name": "stdout",
     "output_type": "stream",
     "text": [
      "['1', '3', '5']\n",
      "[1, 3, 5]\n",
      "9\n"
     ]
    }
   ],
   "source": [
    "\"\"\"Day2 Challenge:- String to integers \n",
    "convert add \"\"\"\n",
    "def convert_add(lis):\n",
    "    x = list(map(int,lis))\n",
    "    print(x)\n",
    "    print(sum(x))\n",
    "lis = ['1','3','5']\n",
    "print(lis)\n",
    "convert_add(lis)"
   ]
  },
  {
   "cell_type": "code",
   "execution_count": 10,
   "id": "0d4b45cd",
   "metadata": {},
   "outputs": [
    {
     "name": "stdout",
     "output_type": "stream",
     "text": [
      "apple\n",
      "orange\n"
     ]
    }
   ],
   "source": [
    "\"\"\"Day 2 extra challenge :- Duplicate Names.\n",
    " Write a function called check_duplicates that takes a list of\n",
    "strings as an argument. The function should check if the list has\n",
    "any duplicates. If there are duplicates, the function should return\n",
    "the duplicates. If there are no duplicates, the function should\n",
    "return \"No duplicates\". For example, the list of fruits below\n",
    "should return apple as a duplicate and list of names should\n",
    "return \"no duplicates\". \"\"\"\n",
    "fruits = ['apple', 'orange', 'banana', 'apple','orange']\n",
    "names = ['Yoda', 'Moses', 'Joshua', 'Mark']\n",
    "\n",
    "def check_duplicates(lis):\n",
    "    y = len(set(lis))\n",
    "    if len(lis) == y:\n",
    "        print('No duplicates.')\n",
    "    else:\n",
    "        alis = []\n",
    "        for i in lis:\n",
    "            if i in alis:\n",
    "                print(i)\n",
    "            else:\n",
    "                alis.append(i)\n",
    "\n",
    "check_duplicates(fruits)"
   ]
  },
  {
   "cell_type": "code",
   "execution_count": 3,
   "id": "1cb49476",
   "metadata": {},
   "outputs": [
    {
     "name": "stdout",
     "output_type": "stream",
     "text": [
      "3\n"
     ]
    }
   ],
   "source": [
    "\"\"\" Day 3\n",
    "Write a function called register_check that checks how many\n",
    "students are in school. The function takes a dictionary as a\n",
    "parameter. If the student is in school, the dictionary says ‘yes’. If\n",
    "the student is not in school, the dictionary says ‘no’. Your\n",
    "function should return the number of students in school. Use the\n",
    "dictionary below. Your function should return 3. \"\"\"\n",
    "register = {'Michael':'yes','John': 'no','Peter':'yes', 'Mary': 'yes'}\n",
    "\n",
    "def register_check(dic):\n",
    "    x = list(dic.values())\n",
    "    print(x.count('yes'))\n",
    "register_check(register)"
   ]
  },
  {
   "cell_type": "code",
   "execution_count": 11,
   "id": "32e7096c",
   "metadata": {},
   "outputs": [
    {
     "name": "stdout",
     "output_type": "stream",
     "text": [
      "('kerry', 'dickson', 'carol', 'adam')\n"
     ]
    }
   ],
   "source": [
    "\"\"\" Extra Challenge: Lowercase Names\n",
    "\n",
    "names = [\"kerry\", \"dickson\", \"John\", \"Mary\",\"carol\", \"Rose\", \"adam\"]\n",
    "\n",
    "You are given a list of names above. This list is made up of names\n",
    "of lowercase and uppercase letters. Your task is to write a code\n",
    "that will return a tuple of all the names in the list that have only\n",
    "lowercase letters. Your tuple should have names sorted\n",
    "alphabetically in descending order. Using the list above, your\n",
    "code should return:\n",
    "('kerry', 'dickson', 'carol', 'adam') \"\"\"\n",
    "\n",
    "names = [\"kerry\", \"dickson\", \"John\", \"Mary\",\"carol\", \"Rose\", \"adam\"]\n",
    "\n",
    "def lowercase_names(names):\n",
    "    l_names = []\n",
    "    for i in names:\n",
    "        if i.islower():\n",
    "            l_names.append(i)\n",
    "    l_names.sort(reverse=True)\n",
    "    return tuple(l_names)\n",
    "print(lowercase_names(names))\n",
    "        \n"
   ]
  },
  {
   "cell_type": "code",
   "execution_count": 21,
   "id": "9e9e7665",
   "metadata": {},
   "outputs": [
    {
     "name": "stdout",
     "output_type": "stream",
     "text": [
      "1\n"
     ]
    }
   ],
   "source": [
    "\"\"\" Day 4     Only Floats\n",
    "Write a function called only_floats, which takes two\n",
    "parameters a and b, and returns 2 if both arguments are floats,\n",
    "returns 1 if only one argument is a float, and returns 0 if neither\n",
    "argument is a float. If you pass (12.1, 23) as an argument, your\n",
    "function should return a 1. \"\"\"\n",
    "\n",
    "def only_floats(a,b):\n",
    "    count = 0\n",
    "    if a % 1 != 0:\n",
    "        count +=1\n",
    "    if b % 1 != 0:\n",
    "        count +=1\n",
    "    print(count)\n",
    "only_floats(12.1,23)"
   ]
  },
  {
   "cell_type": "code",
   "execution_count": 24,
   "id": "e42e214b",
   "metadata": {},
   "outputs": [
    {
     "name": "stdout",
     "output_type": "stream",
     "text": [
      "0\n"
     ]
    }
   ],
   "source": [
    "\"\"\" Day 4:      Extra Challenge: Index of the Longest Word\n",
    "\n",
    "Write a function called word_index that takes one argument,\n",
    "a list of strings and returns the index of the longest word in the\n",
    "list. If there is no longest word (if all the strings are of the same\n",
    "length), the function should return zero (0). For example, the list\n",
    "below should return 2.\n",
    "words1 = [\"Hate\", \"remorse\", \"vengeance\"]\n",
    "And this list below, shoul return zero (0)\n",
    "words2 = [\"Love\", \"Hate\"] \"\"\"\n",
    "words1 = [\"Hate\", \"remorse\", \"vengeance\"]\n",
    "words2 = [\"Love\", \"Hate\"]\n",
    "def word_index(lis):\n",
    "    word = lis[0]\n",
    "    for i in lis:\n",
    "        if len(i) > len(word):\n",
    "            word = i\n",
    "    print(lis.index(word))\n",
    "word_index(words2)"
   ]
  },
  {
   "cell_type": "code",
   "execution_count": 5,
   "id": "ec4a9084",
   "metadata": {},
   "outputs": [
    {
     "name": "stdout",
     "output_type": "stream",
     "text": [
      "Enter price of product. 150\n",
      "Enter the discount15\n",
      "Discounted price:- 127.5\n"
     ]
    }
   ],
   "source": [
    "\"\"\" Day 5: My Discount\n",
    "Create a function called my_discount. The function takes no\n",
    "arguments but asks the user to input the price and the\n",
    "discount (percentage) of the product. Once the user inputs the\n",
    "price and discount, it calculates the price after the discount.\n",
    "The function should return the price after the discount. For\n",
    "example, if the user enters 150 as price and 15% as the discount,\n",
    "your function should return 127.5.\"\"\"\n",
    "\n",
    "def my_discount():\n",
    "    price = float(input('Enter price of product. '))\n",
    "    discount = float(input('Enter the discount'))\n",
    "    disc_val = discount * price / 100\n",
    "    tot_disc = price - disc_val\n",
    "    print(\"Discounted price:-\",tot_disc)\n",
    "my_discount()"
   ]
  },
  {
   "cell_type": "code",
   "execution_count": 21,
   "id": "9326c7bf",
   "metadata": {},
   "outputs": [
    {
     "name": "stdout",
     "output_type": "stream",
     "text": [
      "[('Male', 7), ('female', 6)]\n"
     ]
    }
   ],
   "source": [
    "\"\"\" Extra Challenge: Tuple of Student Sex\n",
    "You work for a school and your boss wants to know how many\n",
    "female and male students are enrolled in the school. The school\n",
    "has saved the students in a list. Your task is to write a code that\n",
    "will count how many males and females are in the list. Here is a\n",
    "list below:\n",
    "students = ['Male', 'Female', 'female', 'male', 'male', 'male','female', 'male', 'Female', 'Male', 'Female', 'Male', 'female']\n",
    "Your code should return a list of tuples.\n",
    "The list above should return:\n",
    "[(‘Male’,7), (‘female’,6)] \"\"\"\n",
    "\n",
    "def count_sex(lis):\n",
    "    men = 0\n",
    "    women = 0\n",
    "    men_val = ''\n",
    "    women_val = ''\n",
    "    tuple_list = []\n",
    "    for i in lis:\n",
    "        if len(i) == 4:\n",
    "            men_val = i\n",
    "            men+=1\n",
    "        elif len(i) == 6:\n",
    "            women_val = i\n",
    "            women+=1\n",
    "    tuple_list.append((men_val,men))\n",
    "    tuple_list.append((women_val,women))\n",
    "    print(tuple_list)\n",
    "students = ['Male', 'Female', 'female', 'male', 'male', 'male','female', 'male', 'Female', 'Male', 'Female', 'Male', 'female']\n",
    "count_sex(students)"
   ]
  },
  {
   "cell_type": "code",
   "execution_count": 11,
   "id": "4a8f90c8",
   "metadata": {},
   "outputs": [
    {
     "name": "stdout",
     "output_type": "stream",
     "text": [
      "Hello ben.jamin\n"
     ]
    }
   ],
   "source": [
    "\"\"\"Day 6: User Name Generator\n",
    "Write a function called user_name that generates a username\n",
    "from the user’s email. The code should ask the user to input an\n",
    "email and the code should return everything before the @ sign\n",
    "as their user name. For example, if someone enters\n",
    "ben@gmail.com, the code should return ben as their user\n",
    "name.\"\"\"\n",
    "def user_name(mail):\n",
    "    x = mail.split('@')\n",
    "    print(\"Hello \"+x[0])\n",
    "mail = 'ben.jamin@gmail.com'\n",
    "user_name(mail)"
   ]
  },
  {
   "cell_type": "code",
   "execution_count": 18,
   "id": "6fe3e803",
   "metadata": {},
   "outputs": [
    {
     "name": "stdout",
     "output_type": "stream",
     "text": [
      "[0, 2, 5, 7, 8, 9, 0]\n"
     ]
    }
   ],
   "source": [
    "\"\"\"Day 6 Extra Challenge: Zero Both ends\n",
    "Write a function called zeroed code that takes a list of numbers\n",
    "as an argument. The code should zero (0) the first and the last\n",
    "number in the list. For example, if the input is [2, 5, 7, 8, 9],\n",
    "your code should return [0, 5, 7, 8, 0]. \"\"\"\n",
    "\n",
    "def zeroed(lis):\n",
    "    lis.insert(0,0)\n",
    "    lis.append(0)\n",
    "    print(lis)\n",
    "zeroed([2,5,7,8,9])"
   ]
  },
  {
   "cell_type": "code",
   "execution_count": 2,
   "id": "b2973fcd",
   "metadata": {},
   "outputs": [
    {
     "name": "stdout",
     "output_type": "stream",
     "text": [
      "0.1.2.3.4.5\n"
     ]
    }
   ],
   "source": [
    "\"\"\" Day 7: A String Range\n",
    "Write a function called string_range that takes a single\n",
    "number and returns a string of its range. The string characters\n",
    "should be separated by dots(.) For example, if you pass 6 as\n",
    "an argument, your function should return ‘0.1.2.3.4.5’. \"\"\"\n",
    "\n",
    "def string_range(num):\n",
    "    x =''\n",
    "    for i in range(0,num):\n",
    "        x +=str(i)+'.'\n",
    "    x = x[:-1]\n",
    "    print(x)\n",
    "\n",
    "string_range(6)\n",
    "    "
   ]
  },
  {
   "cell_type": "code",
   "execution_count": 4,
   "id": "761d3891",
   "metadata": {},
   "outputs": [
    {
     "name": "stdout",
     "output_type": "stream",
     "text": [
      "{'Sasha': 1, 'Sera': 2}\n"
     ]
    }
   ],
   "source": [
    "\"\"\" Day 7 Extra Challenge: Dictionary of names\n",
    "You are given a list of names, and you are asked to write a code\n",
    "that returns all the names that start with ‘S’. Your code should\n",
    "return a dictionary of all the names that start with S and how\n",
    "many times they appear in the dictionary. Here is a list below:\n",
    "names = [\"Joseph\",\"Nathan\", \"Sasha\", \"Kelly\",\"Muhammad\", \"Jabulani\", \"Sera”, \"Patel\", \"Sera”]\n",
    "Your code should return: {“Sasha”: 1, “Sera”: 2} \"\"\"\n",
    "\n",
    "def dictionary_names(names):\n",
    "    dict1 = {}\n",
    "    for i in names:\n",
    "        if i[0] == 'S':\n",
    "            dict1[i] = names.count(i)\n",
    "    print(dict1)\n",
    "names = [ \"Joseph\" , \"Nathan\", \"Sasha\" , \"Kelly\" , \"Muhammad\" , \"Jabulani\", \"Sera\" , \"Patel\" , \"Sera\" ]\n",
    "dictionary_names(names)"
   ]
  },
  {
   "cell_type": "code",
   "execution_count": 16,
   "id": "b99ca095",
   "metadata": {},
   "outputs": [
    {
     "name": "stdout",
     "output_type": "stream",
     "text": [
      "5\n"
     ]
    }
   ],
   "source": [
    "\"\"\" Day 8: Odd and Even\n",
    "Write a function called odd_even that has one parameter and\n",
    "takes a list of numbers as an argument. The function returns the\n",
    "difference between the largest even number in the list and the\n",
    "smallest odd number in the list. For example, if you pass\n",
    "[1,2,4,6] as an argument the function should return 6 -1= 5. \"\"\"\n",
    "\n",
    "def odd_even(lis):\n",
    "    min_odd = max(lis)\n",
    "    max_eve = 0\n",
    "    for i in lis:\n",
    "        if i % 2 == 0 and i > max_eve:\n",
    "            max_eve = i\n",
    "        elif i % 2 != 0 and i < min_odd:\n",
    "            min_odd = i\n",
    "    print(max_eve - min_odd)\n",
    "\n",
    "lis = [2,4,6,3,8]\n",
    "odd_even(lis)"
   ]
  },
  {
   "cell_type": "code",
   "execution_count": 21,
   "id": "721233c2",
   "metadata": {},
   "outputs": [
    {
     "name": "stdout",
     "output_type": "stream",
     "text": [
      "Enter a number for range of prime numbers. 100\n",
      "[2, 3, 5, 7, 11, 13, 17, 19, 23, 29, 31, 37, 41, 43, 47, 53, 59, 61, 67, 71, 73, 79, 83, 89, 97]\n"
     ]
    }
   ],
   "source": [
    "\"\"\" Extra Challenge: List of Prime Numbers\n",
    "Write a function called prime_numbers. This function asks a\n",
    "user to enter a number (integer) as an argument and returns a\n",
    "list of all the prime numbers within its range. For example, if user\n",
    "enters 10, your code should return [2, 3, 5, 7] as prime numbers. \"\"\"\n",
    "\n",
    "def prime_numbers(num):\n",
    "    lis = [2]\n",
    "    for i in range(3,num+1,2):\n",
    "        flag = 0\n",
    "        for j in range(2,i//2+1):\n",
    "            if i % j == 0:\n",
    "                flag = 1\n",
    "                break\n",
    "        if flag == 0:\n",
    "            lis.append(i)\n",
    "    print(lis)\n",
    "val = int(input('Enter a number for range of prime numbers. '))\n",
    "prime_numbers(val)"
   ]
  },
  {
   "cell_type": "code",
   "execution_count": 32,
   "id": "59ea93bf",
   "metadata": {},
   "outputs": [
    {
     "name": "stdout",
     "output_type": "stream",
     "text": [
      "9\n"
     ]
    }
   ],
   "source": [
    "\"\"\" Day 9: Biggest Odd Number\n",
    "Create a function called biggest_odd that takes a string of\n",
    "numbers and returns the biggest odd number in the list. For\n",
    "example, if you pass ‘23569’ as an argument, your function\n",
    "should return 9. Use list comprehension. \"\"\" \n",
    "\n",
    "def biggest_odd(string):\n",
    "    nums = [int(x) for x in string]\n",
    "    nums.sort()\n",
    "    nums = nums[::-1]\n",
    "    for i in nums:\n",
    "        if i % 2 != 0:\n",
    "            print(i)\n",
    "            break\n",
    "    \n",
    "biggest_odd('2358669')"
   ]
  },
  {
   "cell_type": "code",
   "execution_count": 38,
   "id": "327ac804",
   "metadata": {},
   "outputs": [
    {
     "name": "stdout",
     "output_type": "stream",
     "text": [
      "[1, 4, 6, 7, 9]\n"
     ]
    }
   ],
   "source": [
    "\"\"\" Extra Challenge: Zeros to the End\n",
    "Write a function called zeros_last. This function takes a list as\n",
    "argument. If a list has zeros (0), it will move them to the front of\n",
    "the list and maintain the order of the other numbers in the list.\n",
    "If there are no Zeros in the list, the function should return the\n",
    "original list sorted in ascending order. For example, if you pass\n",
    "[1, 4, 6, 0, 7,0,9] as an argument, your code should return [1,\n",
    "4, 6, 7, 9, 0, 0]. If you pass [2, 1, 4, 7, 6] as your argument,\n",
    "your code should return [1, 2, 4, 6, 7]. \"\"\"\n",
    "\n",
    "def zeros_last(lis):\n",
    "    x = [a for a in lis if a != 0]\n",
    "    \n",
    "    if len(lis) == len(x):\n",
    "        x.sort()\n",
    "        print(x)\n",
    "    else:\n",
    "        temp = len(lis) - len(x)\n",
    "        for i in range(temp):\n",
    "            x.append(0)\n",
    "        print(x)\n",
    "    \n",
    "lis = [1,4,6,7,9]\n",
    "zeros_last(lis)\n",
    "    "
   ]
  },
  {
   "cell_type": "code",
   "execution_count": 3,
   "id": "1997086f",
   "metadata": {},
   "outputs": [
    {
     "name": "stdout",
     "output_type": "stream",
     "text": [
      "Enter a password abc\n",
      "*** Your password is 3 characeters long\n"
     ]
    }
   ],
   "source": [
    "\"\"\"Day 10: Hide my Password\n",
    "Write a function called hide_password that takes no\n",
    "parameters. The function takes an input (a password) from a\n",
    "user and returns a hidden password. For example, if the user\n",
    "enters ‘hello’ as a password the function should return ‘****’ as\n",
    "a password and tell the user that the password is 4 characters long\"\"\"\n",
    "def hide_password():\n",
    "    passwd = input('Enter a password ')\n",
    "    print('*'*len(passwd),end='')\n",
    "    print(' Your password is {} characeters long'.format(len(passwd)))\n",
    "hide_password()"
   ]
  },
  {
   "cell_type": "code",
   "execution_count": 18,
   "id": "350254ab",
   "metadata": {},
   "outputs": [
    {
     "name": "stdout",
     "output_type": "stream",
     "text": [
      "['1,000,000', '2,356,989', '2,354,672', '9,878,098', ',10,000,000']\n"
     ]
    }
   ],
   "source": [
    "\"\"\"\n",
    "Extra Challenge: A Thousand Separator\n",
    "Your new company has a list of figures saved in a list. The issue\n",
    "is that these numbers have no separator. The numbers are\n",
    "saved in the following format:\n",
    "[1000000, 2356989, 2354672, 9878098].\n",
    "You have been asked to write a code that will convert each of the\n",
    "numbers in the list into a string. Your code should then add a\n",
    "comma on each number as a thousand separator for\n",
    "readability. When you run your code on the above list, your\n",
    "output should be:\n",
    "[ '1,000,000', '2,356,989', '2,354,672', '9,878,098’]\n",
    "Write a function called convert_numbers that will take one\n",
    "argument, a list of numbers above. \"\"\"\n",
    "def convert_numbers(numbers):\n",
    "    numbers = [str(n) for n in numbers]\n",
    "    comma_numbers = []\n",
    "    for i in numbers:\n",
    "        x = list(i[::-1])\n",
    "        string =''\n",
    "        for j in range(len(x)//2):\n",
    "            string+=''.join(x[3*j:3*j + 3])+','\n",
    "        string = string[:-1]\n",
    "        comma_numbers.append(string[::-1])\n",
    "    print(comma_numbers)\n",
    "        \n",
    "        \n",
    "        \n",
    "numbers = [1000000, 2356989, 2354672, 9878098, 10000000]\n",
    "convert_numbers(numbers)"
   ]
  },
  {
   "cell_type": "code",
   "execution_count": 6,
   "id": "5db19e13",
   "metadata": {},
   "outputs": [
    {
     "name": "stdout",
     "output_type": "stream",
     "text": [
      "Enter string 1 late\n",
      "Enter string 2 tale\n",
      "True\n"
     ]
    }
   ],
   "source": [
    "\"\"\"Day 11: Are They Equal?\n",
    "Write a function called equal_strings. The function takes two\n",
    "strings as arguments and compares them. If the strings are equal\n",
    "(if they have the same characters and have equal length), it\n",
    "should return True, if they are not, it should return False. For\n",
    "example, ‘love’ and ‘evol’ should return True. \"\"\"\n",
    "\n",
    "def equal_strings(str1,str2):\n",
    "    if len(str1) == len(str2):\n",
    "        a = set(list(str1))\n",
    "        b = set(list(str2))\n",
    "        if a.intersection(b) == b.intersection(a):\n",
    "            return True\n",
    "        else:\n",
    "            return False\n",
    "    else:\n",
    "        return False\n",
    "    \n",
    "str1 = input('Enter string 1 ')\n",
    "str2 = input('Enter string 2 ')\n",
    "print(equal_strings(str1,str2))\n",
    "\n"
   ]
  },
  {
   "cell_type": "code",
   "execution_count": 8,
   "id": "111b35a0",
   "metadata": {},
   "outputs": [
    {
     "name": "stdout",
     "output_type": "stream",
     "text": [
      "[17, 4, 67, 2]\n"
     ]
    }
   ],
   "source": [
    "\"\"\"Extra Challenge: Swap Values\n",
    "Write a function called swap_values. This function takes a list\n",
    "of numbers and swaps the first element with the last element.\n",
    "For example, if you pass [2, 4,67, 7] as a parameter, your\n",
    "function should return\n",
    "[7, 4, 67, 2]. \"\"\"\n",
    "\n",
    "def swap_values(lis):\n",
    "    first = lis[0]\n",
    "    last = lis[-1]\n",
    "    lis[0] = last\n",
    "    lis[-1] = first\n",
    "    print(lis)\n",
    "lis = [2,4,67,17]\n",
    "swap_values(lis)"
   ]
  },
  {
   "cell_type": "code",
   "execution_count": 10,
   "id": "99664186",
   "metadata": {},
   "outputs": [
    {
     "name": "stdout",
     "output_type": "stream",
     "text": [
      "2\n"
     ]
    }
   ],
   "source": [
    "\"\"\" Day 12: Count the Dots\n",
    "Write a function called count_dots. This function takes a\n",
    "string separated by dots as a parameter and counts how many\n",
    "dots are in the string. For example, ‘h.e.l.p.’ should return 4\n",
    "dots, and ‘he.lp.’ should return 2 dots. \"\"\"\n",
    "\n",
    "def count_dots(string):\n",
    "    print(string.count('.'))\n",
    "string ='he.lp.'\n",
    "count_dots(string)"
   ]
  },
  {
   "cell_type": "code",
   "execution_count": 1,
   "id": "5d987961",
   "metadata": {},
   "outputs": [
    {
     "name": "stdout",
     "output_type": "stream",
     "text": [
      "Enter your year of birth. 1930\n",
      "48,355,200\n",
      "Enter your year of birth. 2020\n",
      "1,051,200\n",
      "Enter your year of birth. 2021\n",
      "525,600\n",
      "Enter your year of birth. 2019\n",
      "1,576,800\n",
      "Enter your year of birth. 2010\n",
      "6,307,200\n",
      "Enter your year of birth. 2004\n",
      "9,460,800\n",
      "Enter your year of birth. 2023\n",
      "Invalid Year entered. \n"
     ]
    }
   ],
   "source": [
    "\"\"\" Extra Challenge: Your Age in Minutes\n",
    "Write a function called age_in_minutes that tells a user how\n",
    "old they are in minutes. Your code should ask the user to\n",
    "enter their year of birth, and it should return their age in\n",
    "minutes (by subtracting their year of birth to the current year).\n",
    "Here are things to look out for:\n",
    "a. The user can only input a 4-digit year of birth. For\n",
    "example, 1930 is a valid year. However, entering any\n",
    "number longer or less than 4 digits long should render\n",
    "input invalid. Notify the user to input a four digits\n",
    "number.\n",
    "b. If a user enters a year before 1900, your code should\n",
    "tell the user that input is invalid. If the user enters the\n",
    "year after the current year, the code should tell the user,\n",
    "to input a valid year.\n",
    "The code should run until the user inputs a valid year.\n",
    "Your function should return the user's age in minutes. For\n",
    "example, if someone enters 1930, as their year of birth your\n",
    "function should return:\n",
    "You are 48,355,200 minutes old. \"\"\"\n",
    "import datetime\n",
    "def age_in_minutes():\n",
    "    date= datetime.date.today()\n",
    "    current_year = int(date.strftime('%Y'))\n",
    "    while True:\n",
    "        yob = int(input('Enter your year of birth. '))\n",
    "        if len(str(yob)) != 4:\n",
    "            print('enter  valid 4 number of year of birth ')\n",
    "            break\n",
    "            \n",
    "        elif yob < 1900 or yob > current_year:\n",
    "            print('Invalid Year entered. ')\n",
    "            break\n",
    "            \n",
    "        else:\n",
    "            value = str((current_year-yob)*365*24*60)\n",
    "            x = list(value[::-1])\n",
    "            string =''\n",
    "            for j in range(len(x)//2):\n",
    "                string+=''.join(x[3*j:3*j + 3])+','\n",
    "            string = string[:-1]\n",
    "            string = string[::-1]\n",
    "            if string[0] == ',':\n",
    "                print(string[1:])\n",
    "            else:\n",
    "                print(string)\n",
    "\n",
    "age_in_minutes()"
   ]
  },
  {
   "cell_type": "code",
   "execution_count": 3,
   "id": "e8371638",
   "metadata": {},
   "outputs": [
    {
     "name": "stdout",
     "output_type": "stream",
     "text": [
      "Enter the price of product. 220\n",
      "Enter VAT value % 15\n",
      "253.0\n",
      "Enter the price of product. 200\n",
      "Enter VAT value % 15%\n",
      "230.0\n",
      "Enter the price of product. awrads\n",
      "Value Error Occured.\n"
     ]
    }
   ],
   "source": [
    "\"\"\" Day 13: Pay Your Tax\n",
    "Write a function called your_vat. The function takes no\n",
    "parameter. The function asks the user to input the price of an\n",
    "item and VAT (vat should be a percentage). The function should\n",
    "return the price of the item plus VAT. If the price is 220 and,\n",
    "VAT is 15% your code should return a vat inclusive price of 253.\n",
    "Make sure that your code can handle ValueError. Ensure the\n",
    "code runs until valid numbers are entered. (hint: Your code\n",
    "should include a while loop). \"\"\"\n",
    "\n",
    "def your_vat():\n",
    "    while True:\n",
    "        try:\n",
    "            price = float(input('Enter the price of product. '))\n",
    "            \n",
    "            vat = float(input('Enter VAT value % ')[:-1])\n",
    "            vat_inclusive = (price * 15 / 100) + price\n",
    "            print(vat_inclusive)\n",
    "        except ValueError:\n",
    "            print('Value Error Occured.')\n",
    "            break\n",
    "        \n",
    "your_vat()\n",
    "    \n",
    "    "
   ]
  },
  {
   "cell_type": "code",
   "execution_count": 9,
   "id": "386569c2",
   "metadata": {},
   "outputs": [
    {
     "name": "stdout",
     "output_type": "stream",
     "text": [
      "[2, 4, 5, 6, 34, 5]\n"
     ]
    }
   ],
   "source": [
    "\"\"\" Day 14: Flatten the List\n",
    "Write a function called flat_list that takes one argument, a\n",
    "nested list. The function converts the nested list into a one-\n",
    "dimension list. For example [[2,4,5,6]] should return\n",
    "[i,2,4,5,6]. \"\"\"\n",
    "\n",
    "def flat_list(lis):\n",
    "    \n",
    "    f_list = []\n",
    "    for i in lis:\n",
    "        if type(i) == list:\n",
    "            f_list.extend(i)\n",
    "        else:\n",
    "            f_list.append(i)\n",
    "    return f_list\n",
    "lis = [[2,4,5,6],34,5]\n",
    "print(flat_list(lis))"
   ]
  },
  {
   "cell_type": "code",
   "execution_count": 20,
   "id": "4ca4c678",
   "metadata": {},
   "outputs": [
    {
     "name": "stdout",
     "output_type": "stream",
     "text": [
      "Enter teachers' name John Kelly\n",
      "Enter the number of periods  taught in a month 105\n",
      "Enter the rate per period $20\n",
      "Teacher: John Kelly\n",
      "Periods: 105\n",
      "Gross salary: 2,125\n"
     ]
    }
   ],
   "source": [
    "\"\"\"Extra Challenge: Teacher’s Salary\n",
    "A school has asked you to write a program that will calculate\n",
    "teachers' salaries. The program should ask the user to enter the\n",
    "teacher’s name, the number of periods taught in a month,\n",
    "and the rate per period. The monthly salary is calculated by\n",
    "multiplying the number of periods by the monthly rate.\n",
    "The current monthly rate per period is $20. If a teacher has\n",
    "more than 100 periods in a month, everything above 100 is\n",
    "overtime. Overtime is $25 per period. For example, if a teacher\n",
    "has taught 105 periods, their monthly gross salary should be\n",
    "2,125. Write a function called your_salary that calculates a\n",
    "teacher’s gross salary. The function should return the\n",
    "teacher’s name, periods taught, and gross salary. Here is\n",
    "how you should format your output:\n",
    "Teacher: John Kelly,\n",
    "Periods: 105\n",
    "Gross salary:2,125 \"\"\"\n",
    "\n",
    "def your_salary():\n",
    "    name = input(\"Enter teachers' name \")\n",
    "    periods = int(input('Enter the number of periods  taught in a month '))\n",
    "    rate_period = int(input(\"Enter the rate per period \")[1:])\n",
    "    if periods > 100:\n",
    "        salary = rate_period * 100 + (25 * (periods-100))\n",
    "    else:\n",
    "        salary = rate_period * periods\n",
    "    sal = str(salary)\n",
    "    x = list(sal[::-1])\n",
    "    string =''\n",
    "    for j in range(len(x)//2):\n",
    "        string+=''.join(x[3*j:3*j + 3])+','\n",
    "    string = string[:-1]\n",
    "    salary = string[::-1]\n",
    "    \n",
    "    print('Teacher: {}'.format(name))\n",
    "    print('Periods: {}'.format(periods))\n",
    "    print('Gross salary: {}'.format(salary))\n",
    "your_salary()\n",
    "    "
   ]
  },
  {
   "cell_type": "code",
   "execution_count": 24,
   "id": "76ebb9ae",
   "metadata": {},
   "outputs": [
    {
     "name": "stdout",
     "output_type": "stream",
     "text": [
      "carac\n",
      "True\n"
     ]
    }
   ],
   "source": [
    "\"\"\" Day 15: Same in Reverse\n",
    "Write a function called same_in_reverse that takes a string\n",
    "and checks if the string reads the same in reverse. If it is the\n",
    "same, the code should return True if not, it should return False.\n",
    "For example, ‘dad’ should return True, because it reads the\n",
    "same in reverse. \"\"\" \n",
    "def same_in_reverse(string):\n",
    "    if string == string[::-1]:\n",
    "        return True\n",
    "    else:\n",
    "        return False\n",
    "print(same_in_reverse(input()))"
   ]
  },
  {
   "cell_type": "code",
   "execution_count": 27,
   "id": "6da7c2b4",
   "metadata": {},
   "outputs": [
    {
     "name": "stdout",
     "output_type": "stream",
     "text": [
      "Enter your name shubham\n",
      "Sorry, shubham your name is not in the database.\n",
      "Enter your age 22\n",
      "Hi, Shubham, you are 22 years old.\n"
     ]
    }
   ],
   "source": [
    "\"\"\" Extra Challenge: What’s My Age?\n",
    "Write a function called your_age. This function asks a student\n",
    "to enter their name and then it returns their age. For example, if\n",
    "a user enters Peter as their name, your function should return,\n",
    "‘Hi, Peter, you are 27 years old. This function reads data\n",
    "from the database (dictionary below). If the name is not in the\n",
    "dictionary, your code should tell the user that their name is not\n",
    "in the dictionary, and ask them for their age. Your code should\n",
    "then add the name and age to the dictionary of names_age\n",
    "below. Once added your code should return to the user ‘Hi,\n",
    "(added name), you are (added age) years old’. Remember\n",
    "to convert the input from user to lowercase letters\n",
    "names_age = {\"jane\": 23, \"kerry\": 45, \"tim\": 34, “peter\": 27} \"\"\"\n",
    "\n",
    "names_age = {\"jane\": 23, \"kerry\": 45, \"tim\": 34, \"peter\": 27}\n",
    "def your_age(name_dict):\n",
    "    name = input('Enter your name ').lower()\n",
    "    \n",
    "    if name not in name_dict:\n",
    "        print('Sorry, {} your name is not in the database.'.format(name))\n",
    "        age = int(input('Enter your age '))\n",
    "        names_age[name] = age\n",
    "    print('Hi, {}, you are {} years old.'.format(name.capitalize(),name_dict[name]))\n",
    "\n",
    "your_age(names_age)\n",
    "    "
   ]
  },
  {
   "cell_type": "code",
   "execution_count": 32,
   "id": "8e4d8120",
   "metadata": {},
   "outputs": [
    {
     "name": "stdout",
     "output_type": "stream",
     "text": [
      "33\n"
     ]
    }
   ],
   "source": [
    "\"\"\" Day 16: Sum the List\n",
    "Write a function called sum_list with one parameter that takes\n",
    "a nested list of integers as an argument and returns the sum of\n",
    "the integers. For example, if you pass [[2, 4, 5, 6], [2, 3, 5, 6]]\n",
    "as an argument your function should return a sum of 33. \"\"\"\n",
    "def sum_list(lis):\n",
    "    add_value = 0\n",
    "    for i in lis:\n",
    "        add_value +=sum(i)\n",
    "    print(add_value)\n",
    "lis = [[2,4,5,6],[2,3,5,6]]\n",
    "sum_list(lis)\n",
    "    "
   ]
  },
  {
   "cell_type": "code",
   "execution_count": 34,
   "id": "7a86fc00",
   "metadata": {},
   "outputs": [
    {
     "name": "stdout",
     "output_type": "stream",
     "text": [
      "[34, 67, 78]\n"
     ]
    }
   ],
   "source": [
    "\"\"\" Extra Challenge: Unpack A Nest\n",
    "Nested_list = [[12, 34, 56, 67], [34, 68, 78]]\n",
    "Write a code that generates a list of the following numbers from\n",
    "the nested list above – 34, 67, 78. Your output should be another\n",
    "list:\n",
    "[34, 67, 78]. The list output should not have duplicates.\"\"\"\n",
    "def nest_list(nes_lis):\n",
    "    values =[]\n",
    "    for i in nes_lis:\n",
    "        for j in i:\n",
    "            if j == 34 or j == 67 or j == 78:\n",
    "                values.append(j)\n",
    "    values = list(set(values))\n",
    "    print(values)\n",
    "nes_lis = [[12, 34, 56, 67], [34, 68, 78]]\n",
    "nest_list(nes_lis)           \n",
    "        \n",
    "    "
   ]
  },
  {
   "cell_type": "code",
   "execution_count": 2,
   "id": "708ef12a",
   "metadata": {},
   "outputs": [
    {
     "name": "stdout",
     "output_type": "stream",
     "text": [
      "Enter your name. ravi\n",
      "ivar3\n"
     ]
    }
   ],
   "source": [
    "\"\"\" Day 17: User Name Generator\n",
    "Write a function called user_name, that creates a username\n",
    "for the user. The function should ask a user to input their name.\n",
    "The function should then reverse the name and attach a\n",
    "randomly issued number between 0 – 9 at the end of the name.\n",
    "The function should return the username. \"\"\"\n",
    "import random\n",
    "def user_name():\n",
    "    name = input('Enter your name. ')\n",
    "    us_name = name[::-1] + str(random.randint(1,9))\n",
    "    print(us_name)\n",
    "user_name()"
   ]
  },
  {
   "cell_type": "code",
   "execution_count": 6,
   "id": "48cf571d",
   "metadata": {},
   "outputs": [
    {
     "name": "stdout",
     "output_type": "stream",
     "text": [
      "['Jon', 'Raj', 'Peter', 'Steve', 'Andrew']\n"
     ]
    }
   ],
   "source": [
    "\"\"\" Extra Challenge: Sort by Length\n",
    "names = [ \"Peter\", \"Jon\", \"Andrew\"]\n",
    "Write a function called sort_length that takes a list of strings\n",
    "as an argument, and sorts the strings in ascending order\n",
    "according to their length. For example, the list above should\n",
    "return:\n",
    "['Jon', 'Peter', 'Andrew']\n",
    "Do not use the built-in sort functions \"\"\"\n",
    "def sort_length(names):\n",
    "    sort_list = []\n",
    "    while names != []:\n",
    "        lengths = [len(x) for x in names]\n",
    "        x = lengths.index(min(lengths))\n",
    "        sort_list.append(names[x])\n",
    "        names.pop(x)\n",
    "    print(sort_list)\n",
    "names = [ \"Peter\", \"Jon\", \"Andrew\",\"Steve\",\"Raj\"]\n",
    "sort_length(names)"
   ]
  },
  {
   "cell_type": "code",
   "execution_count": 11,
   "id": "827a9714",
   "metadata": {},
   "outputs": [
    {
     "name": "stdout",
     "output_type": "stream",
     "text": [
      "Enter the numbers seperating commas 12,90\n",
      "[12.0, 90.0]\n",
      "51.0\n"
     ]
    }
   ],
   "source": [
    "\"\"\" Day 18: Any Number of Arguments\n",
    "Write a function called any_number that can receive any\n",
    "number of arguments (integers and floats) and return the\n",
    "average of those integers. If you pass 12, 90, 12, 34 as\n",
    "arguments your function should return 37.0 as average. If you\n",
    "pass 12, 90 your function should return 51.0 as average. \"\"\"\n",
    "\n",
    "def any_number(numbers):\n",
    "    print(sum(numbers)/len(numbers))\n",
    "    \n",
    "string = input('Enter the numbers seperating commas ')\n",
    "numbers = list(map(float,string.split(',')))\n",
    "any_number(numbers)"
   ]
  },
  {
   "cell_type": "code",
   "execution_count": 21,
   "id": "719cc309",
   "metadata": {},
   "outputs": [
    {
     "name": "stdout",
     "output_type": "stream",
     "text": [
      "[112, 68, 22]\n"
     ]
    }
   ],
   "source": [
    "\"\"\" Extra Challenge: Add and Reverse\n",
    "Write a function called add_reverse. This function takes two\n",
    "lists as argument and adds each corresponding number, and\n",
    "reverses the outcome. For example, if you pass [10, 12, 34]\n",
    "and [12, 56, 78]. Your code should return [112, 22, 68]. If the\n",
    "two lists are not of equal lengths, the code should return a\n",
    "message that \"the lists are not of equal lengths\". \"\"\"\n",
    "\n",
    "def add_reverse(l1,l2):\n",
    "    if len(l1) != len(l2):\n",
    "        print('The lists are not of equal lengths. ')\n",
    "    else:\n",
    "        ad_lis = [ l1[x]+l2[x] for x in range(len(l1))]\n",
    "        rev_lis = ad_lis.reverse()\n",
    "        print(ad_lis)\n",
    "    \n",
    "\n",
    "l1 = [10,12,34]\n",
    "l2 = [12,56,78]\n",
    "add_reverse(l1,l2)"
   ]
  },
  {
   "cell_type": "code",
   "execution_count": 26,
   "id": "8b3e1f8e",
   "metadata": {},
   "outputs": [
    {
     "name": "stdout",
     "output_type": "stream",
     "text": [
      "Enter the stringI love painting\n",
      "Words  3\n",
      "Elements  13\n"
     ]
    }
   ],
   "source": [
    "\"\"\" Day 19: Words and Elements\n",
    "Write two functions. The first function is called count_words\n",
    "which takes a string of words and counts how many words are in\n",
    "the string.\n",
    "The second function called count_elements takes a string of\n",
    "words and counts how many elements are in the string. Do not\n",
    "count the whitespaces. The first function will return the number\n",
    "of words in a string and the second one will return the number\n",
    "of elements (less whitespace). If you pass ‘I love learning’,\n",
    "the count_words function should return 3 words and\n",
    "count_elements should return 13 elements. \"\"\"\n",
    "\n",
    "def count_words(string):\n",
    "    return len(string.split(' '))\n",
    "\n",
    "def count_elements(string):\n",
    "    a = string.count(' ')\n",
    "    return len(string)-a\n",
    "\n",
    "string = input('Enter the string ')\n",
    "print(\"Words \",count_words(string))\n",
    "print(\"Elements \",count_elements(string))"
   ]
  },
  {
   "cell_type": "code",
   "execution_count": 30,
   "id": "f99ac8d0",
   "metadata": {},
   "outputs": [
    {
     "name": "stdout",
     "output_type": "stream",
     "text": [
      "Enter the string i like learning\n",
      "I Like Learning\n"
     ]
    }
   ],
   "source": [
    "\"\"\" Day 20: Capitalize First Letter\n",
    "Write a function called capitalize. This function takes a string\n",
    "as an argument and capitalizes the first letter of each word. For\n",
    "example, ‘i like learning’ becomes ‘I Like Learning’. \"\"\"\n",
    "\n",
    "def capitalize(string):\n",
    "    x = string.split(' ')\n",
    "    x = [a.capitalize() for a in x]\n",
    "    add_str = ' '.join(x)\n",
    "    print(add_str)\n",
    "\n",
    "string = input(\"Enter the string \")\n",
    "capitalize(string)"
   ]
  },
  {
   "cell_type": "code",
   "execution_count": 41,
   "id": "05c70c20",
   "metadata": {},
   "outputs": [
    {
     "name": "stdout",
     "output_type": "stream",
     "text": [
      "['leArning', 'is', 'hard,', 'bUt', 'if', 'You', 'appLy', 'youRself', \"'\", '\\\\', \"'you\", 'can', 'achieVe', 'success']\n",
      "['gninrAel', 'tUb', 'uoY', 'yLppa', 'flesRuoy', 'eVeihca']\n"
     ]
    }
   ],
   "source": [
    "\"\"\" Extra Challenge: Reversed List\n",
    "str1 = 'leArning is hard, bUt if You appLy youRself ' \\\n",
    "'you can achieVe success'\n",
    "You are given a string of words. Some of the words in the string\n",
    "contain uppercase letters. Write a code that will return all the\n",
    "words that have an uppercase letter. Your code should return a\n",
    "list of the words. Each word in the list should be reversed. Here\n",
    "is how your output should look:\n",
    "['gninrAel', 'tUb', 'uoY', 'yLppa', 'flesRuoy', 'eVeihca'] \"\"\"\n",
    "\n",
    "str1 = \"leArning is hard, bUt if You appLy youRself ' \\ 'you can achieVe success\"\n",
    "x_lis = str1.split(\" \")\n",
    "reversed_list = []\n",
    "print(x_lis)\n",
    "for i in x_lis:\n",
    "    ans = any( j.isupper() for j in i)\n",
    "    if ans:\n",
    "        reversed_list.append(i[::-1])\n",
    "    \n",
    "print(reversed_list)\n"
   ]
  },
  {
   "cell_type": "code",
   "execution_count": 2,
   "id": "8114f474",
   "metadata": {},
   "outputs": [
    {
     "name": "stdout",
     "output_type": "stream",
     "text": [
      "[(1, 5), (2, 6), (3, 7), (4, 8)]\n"
     ]
    }
   ],
   "source": [
    "\"\"\" Day 21: List of Tuples\n",
    "Write a function called make_tuples that takes two lists,\n",
    "equal lists, and combines them into a list of tuples. For\n",
    "example, if list a is [1,2,3,4] and list b is [5,6,7,8], your\n",
    "function should return [(1,5), (2,6), (3,7), (4,8)]. \"\"\"\n",
    "\n",
    "def make_tuples(l1,l2):\n",
    "    tup_lis = []\n",
    "    if len(l1) != len(l2):\n",
    "        print('the lists are not equal ')\n",
    "    else:\n",
    "        for i in range(len(l1)):\n",
    "            tup_lis.append((l1[i],l2[i]))\n",
    "        print(tup_lis)\n",
    "l1 = [1,2,3,4]\n",
    "l2 = [5,6,7,8]\n",
    "make_tuples(l1,l2)\n",
    "    "
   ]
  },
  {
   "cell_type": "code",
   "execution_count": 6,
   "id": "0d26852b",
   "metadata": {},
   "outputs": [
    {
     "name": "stdout",
     "output_type": "stream",
     "text": [
      "Enter 5 numbers 11,13,15,17,19\n",
      "15.0\n"
     ]
    }
   ],
   "source": [
    "\"\"\" Extra Challenge: Even Number or Average\n",
    "Write a function called even_or_average that ask a user to\n",
    "input five numbers. Once the user is done, the code should\n",
    "return the largest even number in the inputted numbers. If\n",
    "there is no even number in the list, the code should return the\n",
    "average of all the five numbers. \"\"\"\n",
    "\n",
    "def even_or_average():\n",
    "    numbers = list(map(int,input('Enter 5 numbers ').split(',')))\n",
    "    \n",
    "    eve = numbers[0]\n",
    "    for i in numbers:\n",
    "        if i % 2 == 0 and i > eve:\n",
    "            eve = i\n",
    "    if eve %2 != 0:\n",
    "        print(sum(numbers)/len(numbers))\n",
    "    else:\n",
    "        print(eve)\n",
    "even_or_average()"
   ]
  },
  {
   "cell_type": "code",
   "execution_count": 15,
   "id": "7e6e7ea5",
   "metadata": {},
   "outputs": [
    {
     "name": "stdout",
     "output_type": "stream",
     "text": [
      "Enter a string Python\n",
      "Python\n"
     ]
    }
   ],
   "source": [
    "\"\"\" Day 22: Add Under_Score\n",
    "Create three functions. The first called add_hash takes a string and\n",
    "adds a hash # between the words. The second function called\n",
    "add_underscore removes the hash (#) and replaces it with an\n",
    "underscore \"_\" The third function called remove_underscore,\n",
    "removes the underscore and replaces it with nothing. if you pass\n",
    "‘Python’ as an argument for the three functions, and you call them at\n",
    "the same time like:\n",
    "print(remove_underscore(add_underscore(add_hash('Python'))))\n",
    "it should return ‘Python’. \"\"\"\n",
    "\n",
    "def add_hash(string):\n",
    "    return string[0:len(string)//2] + '#' + string[(len(string)//2):]\n",
    "def add_underscore(string):\n",
    "    values = string.split('#')\n",
    "    string = '_'.join(values)\n",
    "    return string\n",
    "    \n",
    "def remove_underscore(string):\n",
    "    values = string.split('_')\n",
    "    string = ''.join(values)\n",
    "    return string\n",
    "\n",
    "string = input('Enter a string ')\n",
    "print(remove_underscore(add_underscore(add_hash(string))))"
   ]
  },
  {
   "cell_type": "code",
   "execution_count": 4,
   "id": "c1f8ef34",
   "metadata": {},
   "outputs": [
    {
     "name": "stdout",
     "output_type": "stream",
     "text": [
      "Enter value 1 123\n",
      "Enter value 2 123\n",
      "choose from /n 1) Addition /n 2) Subtraction /n 3) Multiply /n 4) Divide./n 4\n",
      "variable is not defined. \n"
     ]
    }
   ],
   "source": [
    "\"\"\" Day 23: Simple Calculator\n",
    "Create a simple calculator. The calculator should be able to perform\n",
    "basic math operations, add, subtract, divide and multiply. The\n",
    "calculator should take input from users. The calculator should be\n",
    "able to handle ZeroDivisionError, NameError, and\n",
    "ValueError. \"\"\" \n",
    "\n",
    "try:\n",
    "    x = float(input('Enter value 1 '))\n",
    "    y = float(input('Enter value 2 '))\n",
    "    z = int(input('choose from /n 1) Addition /n 2) Subtraction /n 3) Multiply /n 4) Divide./n '))\n",
    "    if y == 0.0 and z == 4:\n",
    "        raise ZeroDivisionError\n",
    "    else:\n",
    "        if z == 1:\n",
    "            print('Your addition is ',x+y)\n",
    "        elif z == 2:\n",
    "            print('Your addition is ',x-y)\n",
    "        elif z == 3:\n",
    "            print('Your addition is ',x*y)\n",
    "        elif z == 4:\n",
    "            print('Your addition is ',x/y)\n",
    "except ZeroDivisionError:\n",
    "    print('Cannot Divide by Zero ')\n",
    "except NameError:\n",
    "    print('NameError exception occured. Variable is not defined. ')\n",
    "except ValueError:\n",
    "    print('ValueError exception occured. Invalid Value Entered. ')"
   ]
  },
  {
   "cell_type": "code",
   "execution_count": 11,
   "id": "877c2399",
   "metadata": {},
   "outputs": [
    {
     "name": "stdout",
     "output_type": "stream",
     "text": [
      "12\n"
     ]
    }
   ],
   "source": [
    "\"\"\" Extra Challenge: Multiply Words\n",
    "s = \"love live and laugh\"\n",
    "Write a function called multiply_words that takes a string as an\n",
    "argument and multiplies the length of each word in the string by\n",
    "the length of other words in the string. For example, the string\n",
    "above should return 240 - love (4) live (4) and (3) laugh (5).\n",
    "However, your function should only multiply words will all\n",
    "lowercase letters. If a word has one upper case letter, it should be\n",
    "ignored. For example, the following string:\n",
    "s = \"Hate war love Peace\" should return 12 – war (3) love (4).\n",
    "Hate and Peace will be ignored because they have at least one\n",
    "uppercase letter. \"\"\"\n",
    "\n",
    "def multiply_words(string):\n",
    "    words_list = string.split(' ')\n",
    "    num = 1\n",
    "    for i in words_list:\n",
    "        flag = 0\n",
    "        for j in i:\n",
    "            if j.isupper():\n",
    "                flag = 1\n",
    "                break\n",
    "        if flag == 0:\n",
    "            num *= len(i)\n",
    "    print(num)\n",
    "string = 'Hate was love Peace'          \n",
    "multiply_words(string)\n",
    "            "
   ]
  },
  {
   "cell_type": "code",
   "execution_count": 16,
   "id": "8e2b0de4",
   "metadata": {},
   "outputs": [
    {
     "name": "stdout",
     "output_type": "stream",
     "text": [
      "Enter the calories intake 16000\n",
      "Enter the number of days for intake 7\n",
      "2285.71\n"
     ]
    }
   ],
   "source": [
    "\"\"\" Day 24: Average Calories\n",
    "Create a function called average_calories that calculates the\n",
    "average calories intake of a user. The function should ask the user\n",
    "to input their calories intake for any number of days and once they\n",
    "hit ‘done’ it should calculate and return the average intake. \"\"\"\n",
    "\n",
    "def average_calories():\n",
    "    calories_intake = float(input('Enter the calories intake '))\n",
    "    days = int(input('Enter the number of days for intake '))\n",
    "    return calories_intake/days\n",
    "print(round(average_calories(),2))"
   ]
  },
  {
   "cell_type": "code",
   "execution_count": 24,
   "id": "dd1fec65",
   "metadata": {},
   "outputs": [
    {
     "name": "stdout",
     "output_type": "stream",
     "text": [
      "True\n"
     ]
    }
   ],
   "source": [
    "\"\"\" Day 25: All the Same\n",
    "Create a function called all_the_same that takes one\n",
    "argument, a string, a list, or a tuple and checks if all the\n",
    "elements are the same. If the elements are the same, the function\n",
    "should return True. If not, it should return False. For example,\n",
    "[‘Mary’, ‘Mary’, ‘Mary’] should return True. \"\"\"\n",
    "\n",
    "def all_the_same(arg):\n",
    "    element = arg[0]\n",
    "    flag = 0\n",
    "    for i in arg:\n",
    "        if i != element:\n",
    "            flag= 1\n",
    "            break\n",
    "    if flag == 0:\n",
    "        return True\n",
    "    else:\n",
    "        return False\n",
    "\n",
    "arg = ['1','1','1']\n",
    "print(all_the_same(arg))"
   ]
  },
  {
   "cell_type": "code",
   "execution_count": 27,
   "id": "e6057186",
   "metadata": {},
   "outputs": [
    {
     "name": "stdout",
     "output_type": "stream",
     "text": [
      "Enter a string real is love the\n",
      "the love is real\n"
     ]
    }
   ],
   "source": [
    "\"\"\" Extra Challenge: Reverse a String\n",
    "str1 = \"the love is real\"\n",
    "Write a function called read_backwards that takes a string as\n",
    "an argument and reverses it. For example, the string above\n",
    "should return: \"real is love the\" \"\"\"\n",
    "def read_backwards(string):\n",
    "    lists = string.split(' ')\n",
    "    lists.reverse()\n",
    "    string = ' '.join(lists)\n",
    "    print(string)\n",
    "\n",
    "string = input('Enter a string ')\n",
    "read_backwards(string)"
   ]
  },
  {
   "cell_type": "code",
   "execution_count": 30,
   "id": "cb975682",
   "metadata": {},
   "outputs": [
    {
     "name": "stdout",
     "output_type": "stream",
     "text": [
      "Enter a string love life\n",
      "['e', 'f', 'i', 'l', 'o', 'v']\n"
     ]
    }
   ],
   "source": [
    "\"\"\" Day 26: Sort Words\n",
    "Write a function called sort_words that takes a string of words\n",
    "as an argument, removes the whitespaces, and returns a list of\n",
    "letters sorted in alphabetical order. Letters will be separated by\n",
    "commas. All letters should appear once in the list. This means\n",
    "that you sort and remove duplicates. For example ‘love life’\n",
    "should return as ['e,f,i,l,o,v']. \"\"\"\n",
    "\n",
    "def sort_words(string):\n",
    "    letters = list(string)\n",
    "    if ' ' in letters:\n",
    "        letters.remove(' ')\n",
    "    letters = list(set(letters))\n",
    "    letters.sort()\n",
    "    print(letters)\n",
    "string = input('Enter a string ')\n",
    "sort_words(string)"
   ]
  },
  {
   "cell_type": "code",
   "execution_count": 31,
   "id": "25ad9c07",
   "metadata": {},
   "outputs": [
    {
     "name": "stdout",
     "output_type": "stream",
     "text": [
      "Enter a string to check shubham is a nice guy\n",
      "{'shubham': 7, 'is': 2, 'a': 1, 'nice': 4, 'guy': 3}\n"
     ]
    }
   ],
   "source": [
    "\"\"\" Extra Challenge: Length of Words\n",
    "s = 'Hi my name is Richard'\n",
    "Write a function called string_length that takes a string of\n",
    "words (words and spaces) as argument. This function should\n",
    "return the length of all the words in the string. Return the results\n",
    "in a form of a dictionary. The string above should return:\n",
    "{'Hi': 2, 'my': 2, 'name': 4, 'is': 2, 'Richard': 7} \"\"\"\n",
    "def string_length(string):\n",
    "    words = string.split(' ')\n",
    "    words_dict = {}\n",
    "    for i in words:\n",
    "        words_dict[i] = len(i)\n",
    "    print(words_dict)\n",
    "string = input('Enter a string to check ')\n",
    "string_length(string)"
   ]
  },
  {
   "cell_type": "code",
   "execution_count": 39,
   "id": "67f4736c",
   "metadata": {},
   "outputs": [
    {
     "name": "stdout",
     "output_type": "stream",
     "text": [
      "1\n",
      "[1, 2, 3, 5, 6, 7, 8]\n"
     ]
    }
   ],
   "source": [
    "\"\"\" Day 27: Unique Numbers\n",
    "Write a function called unique_numbers that takes a list of\n",
    "numbers as an argument. Your function is going to find all the\n",
    "unique numbers in the list. It will then sum up the unique\n",
    "numbers. You will calculate the difference between the sum of\n",
    "all the numbers in the original list and the sum of unique\n",
    "numbers in the list. If the difference is an even number, your\n",
    "function should return the original list. If the difference is an\n",
    "odd number, your function should return a list with unique\n",
    "numbers only. For example [1, 2, 4, 5, 6, 7, 8, 8] should\n",
    "return [1, 2, 4, 5, 6, 7, 8, 8]. \"\"\"\n",
    "\n",
    "def unique_numbers(lists):\n",
    "    new_list = list(set(lists))\n",
    "    diff  = sum(lists) - sum(new_list)\n",
    "    print(diff)\n",
    "    if diff % 2 == 0:\n",
    "        return lists\n",
    "    else:\n",
    "        return new_list\n",
    "    \n",
    "lists = [1,1,2,3,5,6,7,8]\n",
    "print(unique_numbers(lists))"
   ]
  },
  {
   "cell_type": "code",
   "execution_count": 40,
   "id": "f8570b4a",
   "metadata": {},
   "outputs": [
    {
     "name": "stdout",
     "output_type": "stream",
     "text": [
      "[4, 6, 7, 9]\n"
     ]
    }
   ],
   "source": [
    "\"\"\" Extra Challenge: Difference of two Lists\n",
    "Write a function called difference that takes two lists as\n",
    "arguments. This function should return all the elements that are\n",
    "in list a but not in list b and all the elements in list b not in list\n",
    "a. For example:\n",
    "list1 = [1, 2, 4, 5, 6]\n",
    "list2 = [1, 2, 5, 7, 9]\n",
    "should return:\n",
    "[4, 6, 7, 9]\n",
    "Use list comprehension in your function. \"\"\" \n",
    "\n",
    "def difference(list1,list2):\n",
    "    unique = []\n",
    "    unique.extend([l1 for l1 in list1 if l1 not in list2])\n",
    "    unique.extend([l2 for l2 in list2 if l2 not in list1])\n",
    "    print(unique)\n",
    "    \n",
    "    \n",
    "list1 = [1,2,4,5,6]\n",
    "list2 = [1,2,5,7,9]\n",
    "difference(list1,list2)\n"
   ]
  },
  {
   "cell_type": "code",
   "execution_count": null,
   "id": "ab9f34bb",
   "metadata": {},
   "outputs": [],
   "source": []
  }
 ],
 "metadata": {
  "kernelspec": {
   "display_name": "Python 3 (ipykernel)",
   "language": "python",
   "name": "python3"
  },
  "language_info": {
   "codemirror_mode": {
    "name": "ipython",
    "version": 3
   },
   "file_extension": ".py",
   "mimetype": "text/x-python",
   "name": "python",
   "nbconvert_exporter": "python",
   "pygments_lexer": "ipython3",
   "version": "3.9.12"
  }
 },
 "nbformat": 4,
 "nbformat_minor": 5
}
