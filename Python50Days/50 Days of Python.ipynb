{
 "cells": [
  {
   "cell_type": "code",
   "execution_count": 6,
   "id": "8d4dfc14",
   "metadata": {},
   "outputs": [
    {
     "name": "stdout",
     "output_type": "stream",
     "text": [
      "Enter a number 15\n",
      "3.87\n"
     ]
    }
   ],
   "source": [
    "\"\"\" 50 days of python\n",
    "Day 1:-\n",
    "Challenge 1 Division and Square root.\"\"\"\n",
    "import math\n",
    "def divide_or_square(num):\n",
    "    if num % 5 == 0:\n",
    "        return math.sqrt(num)\n",
    "    else:\n",
    "        return num % 5\n",
    "number = int(input(\"Enter a number \"))\n",
    "print(round(divide_or_square(number),2))"
   ]
  },
  {
   "cell_type": "code",
   "execution_count": 14,
   "id": "2884058a",
   "metadata": {},
   "outputs": [
    {
     "name": "stdout",
     "output_type": "stream",
     "text": [
      "apple\n"
     ]
    }
   ],
   "source": [
    "\"Day 1 Extra Challenge:- Longest Value\"\n",
    "def longest_value(dic):\n",
    "    x = list(dic.values())\n",
    "    value = x[0]\n",
    "    for i in x[1:]:\n",
    "        if len(i) > len(value):\n",
    "            value = i\n",
    "    return value\n",
    "fruits = {'fruit':'apple','colour':'green'}\n",
    "print(longest_value(fruits))\n"
   ]
  },
  {
   "cell_type": "code",
   "execution_count": 4,
   "id": "03ecbb42",
   "metadata": {},
   "outputs": [
    {
     "name": "stdout",
     "output_type": "stream",
     "text": [
      "['1', '3', '5']\n",
      "[1, 3, 5]\n",
      "9\n"
     ]
    }
   ],
   "source": [
    "\"\"\"Day2 Challenge:- String to integers \n",
    "convert add \"\"\"\n",
    "def convert_add(lis):\n",
    "    x = list(map(int,lis))\n",
    "    print(x)\n",
    "    print(sum(x))\n",
    "lis = ['1','3','5']\n",
    "print(lis)\n",
    "convert_add(lis)"
   ]
  },
  {
   "cell_type": "code",
   "execution_count": 10,
   "id": "0d4b45cd",
   "metadata": {},
   "outputs": [
    {
     "name": "stdout",
     "output_type": "stream",
     "text": [
      "apple\n",
      "orange\n"
     ]
    }
   ],
   "source": [
    "\"\"\"Day 2 extra challenge :- Duplicate Names.\n",
    " Write a function called check_duplicates that takes a list of\n",
    "strings as an argument. The function should check if the list has\n",
    "any duplicates. If there are duplicates, the function should return\n",
    "the duplicates. If there are no duplicates, the function should\n",
    "return \"No duplicates\". For example, the list of fruits below\n",
    "should return apple as a duplicate and list of names should\n",
    "return \"no duplicates\". \"\"\"\n",
    "fruits = ['apple', 'orange', 'banana', 'apple','orange']\n",
    "names = ['Yoda', 'Moses', 'Joshua', 'Mark']\n",
    "\n",
    "def check_duplicates(lis):\n",
    "    y = len(set(lis))\n",
    "    if len(lis) == y:\n",
    "        print('No duplicates.')\n",
    "    else:\n",
    "        alis = []\n",
    "        for i in lis:\n",
    "            if i in alis:\n",
    "                print(i)\n",
    "            else:\n",
    "                alis.append(i)\n",
    "\n",
    "check_duplicates(fruits)"
   ]
  },
  {
   "cell_type": "code",
   "execution_count": 3,
   "id": "1cb49476",
   "metadata": {},
   "outputs": [
    {
     "name": "stdout",
     "output_type": "stream",
     "text": [
      "3\n"
     ]
    }
   ],
   "source": [
    "\"\"\" Day 3\n",
    "Write a function called register_check that checks how many\n",
    "students are in school. The function takes a dictionary as a\n",
    "parameter. If the student is in school, the dictionary says ‘yes’. If\n",
    "the student is not in school, the dictionary says ‘no’. Your\n",
    "function should return the number of students in school. Use the\n",
    "dictionary below. Your function should return 3. \"\"\"\n",
    "register = {'Michael':'yes','John': 'no','Peter':'yes', 'Mary': 'yes'}\n",
    "\n",
    "def register_check(dic):\n",
    "    x = list(dic.values())\n",
    "    print(x.count('yes'))\n",
    "register_check(register)"
   ]
  },
  {
   "cell_type": "code",
   "execution_count": 11,
   "id": "32e7096c",
   "metadata": {},
   "outputs": [
    {
     "name": "stdout",
     "output_type": "stream",
     "text": [
      "('kerry', 'dickson', 'carol', 'adam')\n"
     ]
    }
   ],
   "source": [
    "\"\"\" Extra Challenge: Lowercase Names\n",
    "\n",
    "names = [\"kerry\", \"dickson\", \"John\", \"Mary\",\"carol\", \"Rose\", \"adam\"]\n",
    "\n",
    "You are given a list of names above. This list is made up of names\n",
    "of lowercase and uppercase letters. Your task is to write a code\n",
    "that will return a tuple of all the names in the list that have only\n",
    "lowercase letters. Your tuple should have names sorted\n",
    "alphabetically in descending order. Using the list above, your\n",
    "code should return:\n",
    "('kerry', 'dickson', 'carol', 'adam') \"\"\"\n",
    "\n",
    "names = [\"kerry\", \"dickson\", \"John\", \"Mary\",\"carol\", \"Rose\", \"adam\"]\n",
    "\n",
    "def lowercase_names(names):\n",
    "    l_names = []\n",
    "    for i in names:\n",
    "        if i.islower():\n",
    "            l_names.append(i)\n",
    "    l_names.sort(reverse=True)\n",
    "    return tuple(l_names)\n",
    "print(lowercase_names(names))\n",
    "        \n"
   ]
  },
  {
   "cell_type": "code",
   "execution_count": 21,
   "id": "9e9e7665",
   "metadata": {},
   "outputs": [
    {
     "name": "stdout",
     "output_type": "stream",
     "text": [
      "1\n"
     ]
    }
   ],
   "source": [
    "\"\"\" Day 4     Only Floats\n",
    "Write a function called only_floats, which takes two\n",
    "parameters a and b, and returns 2 if both arguments are floats,\n",
    "returns 1 if only one argument is a float, and returns 0 if neither\n",
    "argument is a float. If you pass (12.1, 23) as an argument, your\n",
    "function should return a 1. \"\"\"\n",
    "\n",
    "def only_floats(a,b):\n",
    "    count = 0\n",
    "    if a % 1 != 0:\n",
    "        count +=1\n",
    "    if b % 1 != 0:\n",
    "        count +=1\n",
    "    print(count)\n",
    "only_floats(12.1,23)"
   ]
  },
  {
   "cell_type": "code",
   "execution_count": 24,
   "id": "e42e214b",
   "metadata": {},
   "outputs": [
    {
     "name": "stdout",
     "output_type": "stream",
     "text": [
      "0\n"
     ]
    }
   ],
   "source": [
    "\"\"\" Day 4:      Extra Challenge: Index of the Longest Word\n",
    "\n",
    "Write a function called word_index that takes one argument,\n",
    "a list of strings and returns the index of the longest word in the\n",
    "list. If there is no longest word (if all the strings are of the same\n",
    "length), the function should return zero (0). For example, the list\n",
    "below should return 2.\n",
    "words1 = [\"Hate\", \"remorse\", \"vengeance\"]\n",
    "And this list below, shoul return zero (0)\n",
    "words2 = [\"Love\", \"Hate\"] \"\"\"\n",
    "words1 = [\"Hate\", \"remorse\", \"vengeance\"]\n",
    "words2 = [\"Love\", \"Hate\"]\n",
    "def word_index(lis):\n",
    "    word = lis[0]\n",
    "    for i in lis:\n",
    "        if len(i) > len(word):\n",
    "            word = i\n",
    "    print(lis.index(word))\n",
    "word_index(words2)"
   ]
  },
  {
   "cell_type": "code",
   "execution_count": null,
   "id": "ec4a9084",
   "metadata": {},
   "outputs": [],
   "source": []
  }
 ],
 "metadata": {
  "kernelspec": {
   "display_name": "Python 3 (ipykernel)",
   "language": "python",
   "name": "python3"
  },
  "language_info": {
   "codemirror_mode": {
    "name": "ipython",
    "version": 3
   },
   "file_extension": ".py",
   "mimetype": "text/x-python",
   "name": "python",
   "nbconvert_exporter": "python",
   "pygments_lexer": "ipython3",
   "version": "3.9.12"
  }
 },
 "nbformat": 4,
 "nbformat_minor": 5
}
