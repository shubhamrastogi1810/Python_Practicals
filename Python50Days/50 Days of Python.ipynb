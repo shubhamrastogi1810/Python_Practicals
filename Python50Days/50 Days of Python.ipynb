{
 "cells": [
  {
   "cell_type": "code",
   "execution_count": 6,
   "id": "8d4dfc14",
   "metadata": {},
   "outputs": [
    {
     "name": "stdout",
     "output_type": "stream",
     "text": [
      "Enter a number 15\n",
      "3.87\n"
     ]
    }
   ],
   "source": [
    "\"\"\" 50 days of python\n",
    "Day 1:-\n",
    "Challenge 1 Division and Square root.\"\"\"\n",
    "import math\n",
    "def divide_or_square(num):\n",
    "    if num % 5 == 0:\n",
    "        return math.sqrt(num)\n",
    "    else:\n",
    "        return num % 5\n",
    "number = int(input(\"Enter a number \"))\n",
    "print(round(divide_or_square(number),2))"
   ]
  },
  {
   "cell_type": "code",
   "execution_count": 14,
   "id": "2884058a",
   "metadata": {},
   "outputs": [
    {
     "name": "stdout",
     "output_type": "stream",
     "text": [
      "apple\n"
     ]
    }
   ],
   "source": [
    "\"Day 1 Extra Challenge:- Longest Value\"\n",
    "def longest_value(dic):\n",
    "    x = list(dic.values())\n",
    "    value = x[0]\n",
    "    for i in x[1:]:\n",
    "        if len(i) > len(value):\n",
    "            value = i\n",
    "    return value\n",
    "fruits = {'fruit':'apple','colour':'green'}\n",
    "print(longest_value(fruits))\n"
   ]
  },
  {
   "cell_type": "code",
   "execution_count": 4,
   "id": "03ecbb42",
   "metadata": {},
   "outputs": [
    {
     "name": "stdout",
     "output_type": "stream",
     "text": [
      "['1', '3', '5']\n",
      "[1, 3, 5]\n",
      "9\n"
     ]
    }
   ],
   "source": [
    "\"\"\"Day2 Challenge:- String to integers \n",
    "convert add \"\"\"\n",
    "def convert_add(lis):\n",
    "    x = list(map(int,lis))\n",
    "    print(x)\n",
    "    print(sum(x))\n",
    "lis = ['1','3','5']\n",
    "print(lis)\n",
    "convert_add(lis)"
   ]
  },
  {
   "cell_type": "code",
   "execution_count": 10,
   "id": "0d4b45cd",
   "metadata": {},
   "outputs": [
    {
     "name": "stdout",
     "output_type": "stream",
     "text": [
      "apple\n",
      "orange\n"
     ]
    }
   ],
   "source": [
    "\"\"\"Day 2 extra challenge :- Duplicate Names.\n",
    " Write a function called check_duplicates that takes a list of\n",
    "strings as an argument. The function should check if the list has\n",
    "any duplicates. If there are duplicates, the function should return\n",
    "the duplicates. If there are no duplicates, the function should\n",
    "return \"No duplicates\". For example, the list of fruits below\n",
    "should return apple as a duplicate and list of names should\n",
    "return \"no duplicates\". \"\"\"\n",
    "fruits = ['apple', 'orange', 'banana', 'apple','orange']\n",
    "names = ['Yoda', 'Moses', 'Joshua', 'Mark']\n",
    "\n",
    "def check_duplicates(lis):\n",
    "    y = len(set(lis))\n",
    "    if len(lis) == y:\n",
    "        print('No duplicates.')\n",
    "    else:\n",
    "        alis = []\n",
    "        for i in lis:\n",
    "            if i in alis:\n",
    "                print(i)\n",
    "            else:\n",
    "                alis.append(i)\n",
    "\n",
    "check_duplicates(fruits)"
   ]
  },
  {
   "cell_type": "code",
   "execution_count": 3,
   "id": "1cb49476",
   "metadata": {},
   "outputs": [
    {
     "name": "stdout",
     "output_type": "stream",
     "text": [
      "3\n"
     ]
    }
   ],
   "source": [
    "\"\"\" Day 3\n",
    "Write a function called register_check that checks how many\n",
    "students are in school. The function takes a dictionary as a\n",
    "parameter. If the student is in school, the dictionary says ‘yes’. If\n",
    "the student is not in school, the dictionary says ‘no’. Your\n",
    "function should return the number of students in school. Use the\n",
    "dictionary below. Your function should return 3. \"\"\"\n",
    "register = {'Michael':'yes','John': 'no','Peter':'yes', 'Mary': 'yes'}\n",
    "\n",
    "def register_check(dic):\n",
    "    x = list(dic.values())\n",
    "    print(x.count('yes'))\n",
    "register_check(register)"
   ]
  },
  {
   "cell_type": "code",
   "execution_count": 11,
   "id": "32e7096c",
   "metadata": {},
   "outputs": [
    {
     "name": "stdout",
     "output_type": "stream",
     "text": [
      "('kerry', 'dickson', 'carol', 'adam')\n"
     ]
    }
   ],
   "source": [
    "\"\"\" Extra Challenge: Lowercase Names\n",
    "\n",
    "names = [\"kerry\", \"dickson\", \"John\", \"Mary\",\"carol\", \"Rose\", \"adam\"]\n",
    "\n",
    "You are given a list of names above. This list is made up of names\n",
    "of lowercase and uppercase letters. Your task is to write a code\n",
    "that will return a tuple of all the names in the list that have only\n",
    "lowercase letters. Your tuple should have names sorted\n",
    "alphabetically in descending order. Using the list above, your\n",
    "code should return:\n",
    "('kerry', 'dickson', 'carol', 'adam') \"\"\"\n",
    "\n",
    "names = [\"kerry\", \"dickson\", \"John\", \"Mary\",\"carol\", \"Rose\", \"adam\"]\n",
    "\n",
    "def lowercase_names(names):\n",
    "    l_names = []\n",
    "    for i in names:\n",
    "        if i.islower():\n",
    "            l_names.append(i)\n",
    "    l_names.sort(reverse=True)\n",
    "    return tuple(l_names)\n",
    "print(lowercase_names(names))\n",
    "        \n"
   ]
  },
  {
   "cell_type": "code",
   "execution_count": 21,
   "id": "9e9e7665",
   "metadata": {},
   "outputs": [
    {
     "name": "stdout",
     "output_type": "stream",
     "text": [
      "1\n"
     ]
    }
   ],
   "source": [
    "\"\"\" Day 4     Only Floats\n",
    "Write a function called only_floats, which takes two\n",
    "parameters a and b, and returns 2 if both arguments are floats,\n",
    "returns 1 if only one argument is a float, and returns 0 if neither\n",
    "argument is a float. If you pass (12.1, 23) as an argument, your\n",
    "function should return a 1. \"\"\"\n",
    "\n",
    "def only_floats(a,b):\n",
    "    count = 0\n",
    "    if a % 1 != 0:\n",
    "        count +=1\n",
    "    if b % 1 != 0:\n",
    "        count +=1\n",
    "    print(count)\n",
    "only_floats(12.1,23)"
   ]
  },
  {
   "cell_type": "code",
   "execution_count": 24,
   "id": "e42e214b",
   "metadata": {},
   "outputs": [
    {
     "name": "stdout",
     "output_type": "stream",
     "text": [
      "0\n"
     ]
    }
   ],
   "source": [
    "\"\"\" Day 4:      Extra Challenge: Index of the Longest Word\n",
    "\n",
    "Write a function called word_index that takes one argument,\n",
    "a list of strings and returns the index of the longest word in the\n",
    "list. If there is no longest word (if all the strings are of the same\n",
    "length), the function should return zero (0). For example, the list\n",
    "below should return 2.\n",
    "words1 = [\"Hate\", \"remorse\", \"vengeance\"]\n",
    "And this list below, shoul return zero (0)\n",
    "words2 = [\"Love\", \"Hate\"] \"\"\"\n",
    "words1 = [\"Hate\", \"remorse\", \"vengeance\"]\n",
    "words2 = [\"Love\", \"Hate\"]\n",
    "def word_index(lis):\n",
    "    word = lis[0]\n",
    "    for i in lis:\n",
    "        if len(i) > len(word):\n",
    "            word = i\n",
    "    print(lis.index(word))\n",
    "word_index(words2)"
   ]
  },
  {
   "cell_type": "code",
   "execution_count": 5,
   "id": "ec4a9084",
   "metadata": {},
   "outputs": [
    {
     "name": "stdout",
     "output_type": "stream",
     "text": [
      "Enter price of product. 150\n",
      "Enter the discount15\n",
      "Discounted price:- 127.5\n"
     ]
    }
   ],
   "source": [
    "\"\"\" Day 5: My Discount\n",
    "Create a function called my_discount. The function takes no\n",
    "arguments but asks the user to input the price and the\n",
    "discount (percentage) of the product. Once the user inputs the\n",
    "price and discount, it calculates the price after the discount.\n",
    "The function should return the price after the discount. For\n",
    "example, if the user enters 150 as price and 15% as the discount,\n",
    "your function should return 127.5.\"\"\"\n",
    "\n",
    "def my_discount():\n",
    "    price = float(input('Enter price of product. '))\n",
    "    discount = float(input('Enter the discount'))\n",
    "    disc_val = discount * price / 100\n",
    "    tot_disc = price - disc_val\n",
    "    print(\"Discounted price:-\",tot_disc)\n",
    "my_discount()"
   ]
  },
  {
   "cell_type": "code",
   "execution_count": 21,
   "id": "9326c7bf",
   "metadata": {},
   "outputs": [
    {
     "name": "stdout",
     "output_type": "stream",
     "text": [
      "[('Male', 7), ('female', 6)]\n"
     ]
    }
   ],
   "source": [
    "\"\"\" Extra Challenge: Tuple of Student Sex\n",
    "You work for a school and your boss wants to know how many\n",
    "female and male students are enrolled in the school. The school\n",
    "has saved the students in a list. Your task is to write a code that\n",
    "will count how many males and females are in the list. Here is a\n",
    "list below:\n",
    "students = ['Male', 'Female', 'female', 'male', 'male', 'male','female', 'male', 'Female', 'Male', 'Female', 'Male', 'female']\n",
    "Your code should return a list of tuples.\n",
    "The list above should return:\n",
    "[(‘Male’,7), (‘female’,6)] \"\"\"\n",
    "\n",
    "def count_sex(lis):\n",
    "    men = 0\n",
    "    women = 0\n",
    "    men_val = ''\n",
    "    women_val = ''\n",
    "    tuple_list = []\n",
    "    for i in lis:\n",
    "        if len(i) == 4:\n",
    "            men_val = i\n",
    "            men+=1\n",
    "        elif len(i) == 6:\n",
    "            women_val = i\n",
    "            women+=1\n",
    "    tuple_list.append((men_val,men))\n",
    "    tuple_list.append((women_val,women))\n",
    "    print(tuple_list)\n",
    "students = ['Male', 'Female', 'female', 'male', 'male', 'male','female', 'male', 'Female', 'Male', 'Female', 'Male', 'female']\n",
    "count_sex(students)"
   ]
  },
  {
   "cell_type": "code",
   "execution_count": 11,
   "id": "4a8f90c8",
   "metadata": {},
   "outputs": [
    {
     "name": "stdout",
     "output_type": "stream",
     "text": [
      "Hello ben.jamin\n"
     ]
    }
   ],
   "source": [
    "\"\"\"Day 6: User Name Generator\n",
    "Write a function called user_name that generates a username\n",
    "from the user’s email. The code should ask the user to input an\n",
    "email and the code should return everything before the @ sign\n",
    "as their user name. For example, if someone enters\n",
    "ben@gmail.com, the code should return ben as their user\n",
    "name.\"\"\"\n",
    "def user_name(mail):\n",
    "    x = mail.split('@')\n",
    "    print(\"Hello \"+x[0])\n",
    "mail = 'ben.jamin@gmail.com'\n",
    "user_name(mail)"
   ]
  },
  {
   "cell_type": "code",
   "execution_count": 18,
   "id": "6fe3e803",
   "metadata": {},
   "outputs": [
    {
     "name": "stdout",
     "output_type": "stream",
     "text": [
      "[0, 2, 5, 7, 8, 9, 0]\n"
     ]
    }
   ],
   "source": [
    "\"\"\"Day 6 Extra Challenge: Zero Both ends\n",
    "Write a function called zeroed code that takes a list of numbers\n",
    "as an argument. The code should zero (0) the first and the last\n",
    "number in the list. For example, if the input is [2, 5, 7, 8, 9],\n",
    "your code should return [0, 5, 7, 8, 0]. \"\"\"\n",
    "\n",
    "def zeroed(lis):\n",
    "    lis.insert(0,0)\n",
    "    lis.append(0)\n",
    "    print(lis)\n",
    "zeroed([2,5,7,8,9])"
   ]
  },
  {
   "cell_type": "code",
   "execution_count": 2,
   "id": "b2973fcd",
   "metadata": {},
   "outputs": [
    {
     "name": "stdout",
     "output_type": "stream",
     "text": [
      "0.1.2.3.4.5\n"
     ]
    }
   ],
   "source": [
    "\"\"\" Day 7: A String Range\n",
    "Write a function called string_range that takes a single\n",
    "number and returns a string of its range. The string characters\n",
    "should be separated by dots(.) For example, if you pass 6 as\n",
    "an argument, your function should return ‘0.1.2.3.4.5’. \"\"\"\n",
    "\n",
    "def string_range(num):\n",
    "    x =''\n",
    "    for i in range(0,num):\n",
    "        x +=str(i)+'.'\n",
    "    x = x[:-1]\n",
    "    print(x)\n",
    "\n",
    "string_range(6)\n",
    "    "
   ]
  },
  {
   "cell_type": "code",
   "execution_count": 4,
   "id": "761d3891",
   "metadata": {},
   "outputs": [
    {
     "name": "stdout",
     "output_type": "stream",
     "text": [
      "{'Sasha': 1, 'Sera': 2}\n"
     ]
    }
   ],
   "source": [
    "\"\"\" Day 7 Extra Challenge: Dictionary of names\n",
    "You are given a list of names, and you are asked to write a code\n",
    "that returns all the names that start with ‘S’. Your code should\n",
    "return a dictionary of all the names that start with S and how\n",
    "many times they appear in the dictionary. Here is a list below:\n",
    "names = [\"Joseph\",\"Nathan\", \"Sasha\", \"Kelly\",\"Muhammad\", \"Jabulani\", \"Sera”, \"Patel\", \"Sera”]\n",
    "Your code should return: {“Sasha”: 1, “Sera”: 2} \"\"\"\n",
    "\n",
    "def dictionary_names(names):\n",
    "    dict1 = {}\n",
    "    for i in names:\n",
    "        if i[0] == 'S':\n",
    "            dict1[i] = names.count(i)\n",
    "    print(dict1)\n",
    "names = [ \"Joseph\" , \"Nathan\", \"Sasha\" , \"Kelly\" , \"Muhammad\" , \"Jabulani\", \"Sera\" , \"Patel\" , \"Sera\" ]\n",
    "dictionary_names(names)"
   ]
  },
  {
   "cell_type": "code",
   "execution_count": 16,
   "id": "b99ca095",
   "metadata": {},
   "outputs": [
    {
     "name": "stdout",
     "output_type": "stream",
     "text": [
      "5\n"
     ]
    }
   ],
   "source": [
    "\"\"\" Day 8: Odd and Even\n",
    "Write a function called odd_even that has one parameter and\n",
    "takes a list of numbers as an argument. The function returns the\n",
    "difference between the largest even number in the list and the\n",
    "smallest odd number in the list. For example, if you pass\n",
    "[1,2,4,6] as an argument the function should return 6 -1= 5. \"\"\"\n",
    "\n",
    "def odd_even(lis):\n",
    "    min_odd = max(lis)\n",
    "    max_eve = 0\n",
    "    for i in lis:\n",
    "        if i % 2 == 0 and i > max_eve:\n",
    "            max_eve = i\n",
    "        elif i % 2 != 0 and i < min_odd:\n",
    "            min_odd = i\n",
    "    print(max_eve - min_odd)\n",
    "\n",
    "lis = [2,4,6,3,8]\n",
    "odd_even(lis)"
   ]
  },
  {
   "cell_type": "code",
   "execution_count": 21,
   "id": "721233c2",
   "metadata": {},
   "outputs": [
    {
     "name": "stdout",
     "output_type": "stream",
     "text": [
      "Enter a number for range of prime numbers. 100\n",
      "[2, 3, 5, 7, 11, 13, 17, 19, 23, 29, 31, 37, 41, 43, 47, 53, 59, 61, 67, 71, 73, 79, 83, 89, 97]\n"
     ]
    }
   ],
   "source": [
    "\"\"\" Extra Challenge: List of Prime Numbers\n",
    "Write a function called prime_numbers. This function asks a\n",
    "user to enter a number (integer) as an argument and returns a\n",
    "list of all the prime numbers within its range. For example, if user\n",
    "enters 10, your code should return [2, 3, 5, 7] as prime numbers. \"\"\"\n",
    "\n",
    "def prime_numbers(num):\n",
    "    lis = [2]\n",
    "    for i in range(3,num+1,2):\n",
    "        flag = 0\n",
    "        for j in range(2,i//2+1):\n",
    "            if i % j == 0:\n",
    "                flag = 1\n",
    "                break\n",
    "        if flag == 0:\n",
    "            lis.append(i)\n",
    "    print(lis)\n",
    "val = int(input('Enter a number for range of prime numbers. '))\n",
    "prime_numbers(val)"
   ]
  },
  {
   "cell_type": "code",
   "execution_count": 32,
   "id": "59ea93bf",
   "metadata": {},
   "outputs": [
    {
     "name": "stdout",
     "output_type": "stream",
     "text": [
      "9\n"
     ]
    }
   ],
   "source": [
    "\"\"\" Day 9: Biggest Odd Number\n",
    "Create a function called biggest_odd that takes a string of\n",
    "numbers and returns the biggest odd number in the list. For\n",
    "example, if you pass ‘23569’ as an argument, your function\n",
    "should return 9. Use list comprehension. \"\"\" \n",
    "\n",
    "def biggest_odd(string):\n",
    "    nums = [int(x) for x in string]\n",
    "    nums.sort()\n",
    "    nums = nums[::-1]\n",
    "    for i in nums:\n",
    "        if i % 2 != 0:\n",
    "            print(i)\n",
    "            break\n",
    "    \n",
    "biggest_odd('2358669')"
   ]
  },
  {
   "cell_type": "code",
   "execution_count": 38,
   "id": "327ac804",
   "metadata": {},
   "outputs": [
    {
     "name": "stdout",
     "output_type": "stream",
     "text": [
      "[1, 4, 6, 7, 9]\n"
     ]
    }
   ],
   "source": [
    "\"\"\" Extra Challenge: Zeros to the End\n",
    "Write a function called zeros_last. This function takes a list as\n",
    "argument. If a list has zeros (0), it will move them to the front of\n",
    "the list and maintain the order of the other numbers in the list.\n",
    "If there are no Zeros in the list, the function should return the\n",
    "original list sorted in ascending order. For example, if you pass\n",
    "[1, 4, 6, 0, 7,0,9] as an argument, your code should return [1,\n",
    "4, 6, 7, 9, 0, 0]. If you pass [2, 1, 4, 7, 6] as your argument,\n",
    "your code should return [1, 2, 4, 6, 7]. \"\"\"\n",
    "\n",
    "def zeros_last(lis):\n",
    "    x = [a for a in lis if a != 0]\n",
    "    \n",
    "    if len(lis) == len(x):\n",
    "        x.sort()\n",
    "        print(x)\n",
    "    else:\n",
    "        temp = len(lis) - len(x)\n",
    "        for i in range(temp):\n",
    "            x.append(0)\n",
    "        print(x)\n",
    "    \n",
    "lis = [1,4,6,7,9]\n",
    "zeros_last(lis)\n",
    "    "
   ]
  },
  {
   "cell_type": "code",
   "execution_count": 3,
   "id": "1997086f",
   "metadata": {},
   "outputs": [
    {
     "name": "stdout",
     "output_type": "stream",
     "text": [
      "Enter a password abc\n",
      "*** Your password is 3 characeters long\n"
     ]
    }
   ],
   "source": [
    "\"\"\"Day 10: Hide my Password\n",
    "Write a function called hide_password that takes no\n",
    "parameters. The function takes an input (a password) from a\n",
    "user and returns a hidden password. For example, if the user\n",
    "enters ‘hello’ as a password the function should return ‘****’ as\n",
    "a password and tell the user that the password is 4 characters long\"\"\"\n",
    "def hide_password():\n",
    "    passwd = input('Enter a password ')\n",
    "    print('*'*len(passwd),end='')\n",
    "    print(' Your password is {} characeters long'.format(len(passwd)))\n",
    "hide_password()"
   ]
  },
  {
   "cell_type": "code",
   "execution_count": 18,
   "id": "350254ab",
   "metadata": {},
   "outputs": [
    {
     "name": "stdout",
     "output_type": "stream",
     "text": [
      "['1,000,000', '2,356,989', '2,354,672', '9,878,098', ',10,000,000']\n"
     ]
    }
   ],
   "source": [
    "\"\"\"\n",
    "Extra Challenge: A Thousand Separator\n",
    "Your new company has a list of figures saved in a list. The issue\n",
    "is that these numbers have no separator. The numbers are\n",
    "saved in the following format:\n",
    "[1000000, 2356989, 2354672, 9878098].\n",
    "You have been asked to write a code that will convert each of the\n",
    "numbers in the list into a string. Your code should then add a\n",
    "comma on each number as a thousand separator for\n",
    "readability. When you run your code on the above list, your\n",
    "output should be:\n",
    "[ '1,000,000', '2,356,989', '2,354,672', '9,878,098’]\n",
    "Write a function called convert_numbers that will take one\n",
    "argument, a list of numbers above. \"\"\"\n",
    "def convert_numbers(numbers):\n",
    "    numbers = [str(n) for n in numbers]\n",
    "    comma_numbers = []\n",
    "    for i in numbers:\n",
    "        x = list(i[::-1])\n",
    "        string =''\n",
    "        for j in range(len(x)//2):\n",
    "            string+=''.join(x[3*j:3*j + 3])+','\n",
    "        string = string[:-1]\n",
    "        comma_numbers.append(string[::-1])\n",
    "    print(comma_numbers)\n",
    "        \n",
    "        \n",
    "        \n",
    "numbers = [1000000, 2356989, 2354672, 9878098, 10000000]\n",
    "convert_numbers(numbers)"
   ]
  },
  {
   "cell_type": "code",
   "execution_count": null,
   "id": "5db19e13",
   "metadata": {},
   "outputs": [],
   "source": []
  }
 ],
 "metadata": {
  "kernelspec": {
   "display_name": "Python 3 (ipykernel)",
   "language": "python",
   "name": "python3"
  },
  "language_info": {
   "codemirror_mode": {
    "name": "ipython",
    "version": 3
   },
   "file_extension": ".py",
   "mimetype": "text/x-python",
   "name": "python",
   "nbconvert_exporter": "python",
   "pygments_lexer": "ipython3",
   "version": "3.9.12"
  }
 },
 "nbformat": 4,
 "nbformat_minor": 5
}
