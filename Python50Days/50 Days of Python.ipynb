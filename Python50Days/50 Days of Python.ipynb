{
 "cells": [
  {
   "cell_type": "code",
   "execution_count": 6,
   "id": "8d4dfc14",
   "metadata": {},
   "outputs": [
    {
     "name": "stdout",
     "output_type": "stream",
     "text": [
      "Enter a number 15\n",
      "3.87\n"
     ]
    }
   ],
   "source": [
    "\"\"\" 50 days of python\n",
    "Day 1:-\n",
    "Challenge 1 Division and Square root.\"\"\"\n",
    "import math\n",
    "def divide_or_square(num):\n",
    "    if num % 5 == 0:\n",
    "        return math.sqrt(num)\n",
    "    else:\n",
    "        return num % 5\n",
    "number = int(input(\"Enter a number \"))\n",
    "print(round(divide_or_square(number),2))"
   ]
  },
  {
   "cell_type": "code",
   "execution_count": 14,
   "id": "2884058a",
   "metadata": {},
   "outputs": [
    {
     "name": "stdout",
     "output_type": "stream",
     "text": [
      "apple\n"
     ]
    }
   ],
   "source": [
    "\"Day 1 Extra Challenge:- Longest Value\"\n",
    "def longest_value(dic):\n",
    "    x = list(dic.values())\n",
    "    value = x[0]\n",
    "    for i in x[1:]:\n",
    "        if len(i) > len(value):\n",
    "            value = i\n",
    "    return value\n",
    "fruits = {'fruit':'apple','colour':'green'}\n",
    "print(longest_value(fruits))\n"
   ]
  },
  {
   "cell_type": "code",
   "execution_count": 4,
   "id": "03ecbb42",
   "metadata": {},
   "outputs": [
    {
     "name": "stdout",
     "output_type": "stream",
     "text": [
      "['1', '3', '5']\n",
      "[1, 3, 5]\n",
      "9\n"
     ]
    }
   ],
   "source": [
    "\"\"\"Day2 Challenge:- String to integers \n",
    "convert add \"\"\"\n",
    "def convert_add(lis):\n",
    "    x = list(map(int,lis))\n",
    "    print(x)\n",
    "    print(sum(x))\n",
    "lis = ['1','3','5']\n",
    "print(lis)\n",
    "convert_add(lis)"
   ]
  },
  {
   "cell_type": "code",
   "execution_count": 10,
   "id": "0d4b45cd",
   "metadata": {},
   "outputs": [
    {
     "name": "stdout",
     "output_type": "stream",
     "text": [
      "apple\n",
      "orange\n"
     ]
    }
   ],
   "source": [
    "\"\"\"Day 2 extra challenge :- Duplicate Names.\n",
    " Write a function called check_duplicates that takes a list of\n",
    "strings as an argument. The function should check if the list has\n",
    "any duplicates. If there are duplicates, the function should return\n",
    "the duplicates. If there are no duplicates, the function should\n",
    "return \"No duplicates\". For example, the list of fruits below\n",
    "should return apple as a duplicate and list of names should\n",
    "return \"no duplicates\". \"\"\"\n",
    "fruits = ['apple', 'orange', 'banana', 'apple','orange']\n",
    "names = ['Yoda', 'Moses', 'Joshua', 'Mark']\n",
    "\n",
    "def check_duplicates(lis):\n",
    "    y = len(set(lis))\n",
    "    if len(lis) == y:\n",
    "        print('No duplicates.')\n",
    "    else:\n",
    "        alis = []\n",
    "        for i in lis:\n",
    "            if i in alis:\n",
    "                print(i)\n",
    "            else:\n",
    "                alis.append(i)\n",
    "\n",
    "check_duplicates(fruits)"
   ]
  },
  {
   "cell_type": "code",
   "execution_count": null,
   "id": "1cb49476",
   "metadata": {},
   "outputs": [],
   "source": []
  }
 ],
 "metadata": {
  "kernelspec": {
   "display_name": "Python 3 (ipykernel)",
   "language": "python",
   "name": "python3"
  },
  "language_info": {
   "codemirror_mode": {
    "name": "ipython",
    "version": 3
   },
   "file_extension": ".py",
   "mimetype": "text/x-python",
   "name": "python",
   "nbconvert_exporter": "python",
   "pygments_lexer": "ipython3",
   "version": "3.9.12"
  }
 },
 "nbformat": 4,
 "nbformat_minor": 5
}
